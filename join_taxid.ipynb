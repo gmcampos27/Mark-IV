{
  "cells": [
    {
      "cell_type": "code",
      "execution_count": null,
      "id": "18b699e3",
      "metadata": {
        "id": "18b699e3"
      },
      "outputs": [],
      "source": [
        "import pandas as pd"
      ]
    },
    {
      "cell_type": "code",
      "execution_count": null,
      "id": "ac331b0c",
      "metadata": {
        "id": "ac331b0c"
      },
      "outputs": [],
      "source": [
        "data = pd.read_excel('scaffolds_pool9_above_500_vs_nt_qcov70_uniq.xlsx')"
      ]
    },
    {
      "cell_type": "code",
      "execution_count": null,
      "id": "8d14e4d2",
      "metadata": {
        "id": "8d14e4d2"
      },
      "outputs": [],
      "source": [
        "taxIDs = pd.read_csv('uniq_taxid.txt', sep = '\\t')"
      ]
    },
    {
      "cell_type": "code",
      "execution_count": null,
      "id": "14b7b53f",
      "metadata": {
        "id": "14b7b53f",
        "outputId": "8dadd073-b3d9-4b8a-a7ca-0a2626526c72"
      },
      "outputs": [
        {
          "data": {
            "text/plain": [
              "Index(['code', '|', 'taxid', '|.1', 'primary taxid', '|.2', 'taxname'], dtype='object')"
            ]
          },
          "execution_count": 4,
          "metadata": {},
          "output_type": "execute_result"
        }
      ],
      "source": [
        "taxIDs.columns"
      ]
    },
    {
      "cell_type": "code",
      "execution_count": null,
      "id": "adc901a9",
      "metadata": {
        "id": "adc901a9",
        "outputId": "a47155ff-326f-4423-dd7c-630c41406d6f"
      },
      "outputs": [
        {
          "data": {
            "text/plain": [
              "Index(['Scaffold ID', 'Subject ID', '%ID', 'Length', 'Qcov', 'Qstart', 'Qend',\n",
              "       'Sstart', 'Send', 'E-value', 'bitscore', 'staxids'],\n",
              "      dtype='object')"
            ]
          },
          "execution_count": 5,
          "metadata": {},
          "output_type": "execute_result"
        }
      ],
      "source": [
        "data.columns"
      ]
    },
    {
      "cell_type": "code",
      "execution_count": null,
      "id": "e8a54b51",
      "metadata": {
        "id": "e8a54b51"
      },
      "outputs": [],
      "source": [
        "taxUseful = taxIDs[['taxid', 'taxname']]"
      ]
    },
    {
      "cell_type": "code",
      "execution_count": null,
      "id": "29e3bb50",
      "metadata": {
        "id": "29e3bb50"
      },
      "outputs": [],
      "source": [
        "joined = pd.merge(data, taxUseful, how='left', left_on='staxids', right_on='taxid')"
      ]
    },
    {
      "cell_type": "code",
      "execution_count": null,
      "id": "b0a02782",
      "metadata": {
        "id": "b0a02782",
        "outputId": "e240b7f1-b56f-49df-da49-72053094dbf5"
      },
      "outputs": [
        {
          "data": {
            "text/html": [
              "<div>\n",
              "<style scoped>\n",
              "    .dataframe tbody tr th:only-of-type {\n",
              "        vertical-align: middle;\n",
              "    }\n",
              "\n",
              "    .dataframe tbody tr th {\n",
              "        vertical-align: top;\n",
              "    }\n",
              "\n",
              "    .dataframe thead th {\n",
              "        text-align: right;\n",
              "    }\n",
              "</style>\n",
              "<table border=\"1\" class=\"dataframe\">\n",
              "  <thead>\n",
              "    <tr style=\"text-align: right;\">\n",
              "      <th></th>\n",
              "      <th>Scaffold ID</th>\n",
              "      <th>Subject ID</th>\n",
              "      <th>%ID</th>\n",
              "      <th>Length</th>\n",
              "      <th>Qcov</th>\n",
              "      <th>Qstart</th>\n",
              "      <th>Qend</th>\n",
              "      <th>Sstart</th>\n",
              "      <th>Send</th>\n",
              "      <th>E-value</th>\n",
              "      <th>bitscore</th>\n",
              "      <th>staxids</th>\n",
              "      <th>taxid</th>\n",
              "      <th>taxname</th>\n",
              "    </tr>\n",
              "  </thead>\n",
              "  <tbody>\n",
              "    <tr>\n",
              "      <th>0</th>\n",
              "      <td>NODE_51_length_17792_cov_7.929156</td>\n",
              "      <td>gi|1148994964|gb|CP019721.1|</td>\n",
              "      <td>93303</td>\n",
              "      <td>15902</td>\n",
              "      <td>90</td>\n",
              "      <td>1853</td>\n",
              "      <td>17751</td>\n",
              "      <td>1097295</td>\n",
              "      <td>1081399</td>\n",
              "      <td>0.0</td>\n",
              "      <td>23459.0</td>\n",
              "      <td>29466</td>\n",
              "      <td>29466.0</td>\n",
              "      <td>Veillonella parvula</td>\n",
              "    </tr>\n",
              "    <tr>\n",
              "      <th>1</th>\n",
              "      <td>NODE_115_length_10299_cov_19.186950</td>\n",
              "      <td>gi|339293023|gb|CP002889.1|</td>\n",
              "      <td>91764</td>\n",
              "      <td>9629</td>\n",
              "      <td>94</td>\n",
              "      <td>654</td>\n",
              "      <td>10268</td>\n",
              "      <td>26288</td>\n",
              "      <td>35905</td>\n",
              "      <td>0.0</td>\n",
              "      <td>13365.0</td>\n",
              "      <td>1051631</td>\n",
              "      <td>1051631.0</td>\n",
              "      <td>Streptococcus phage YMC-2011</td>\n",
              "    </tr>\n",
              "    <tr>\n",
              "      <th>2</th>\n",
              "      <td>NODE_31_length_23078_cov_30.543281</td>\n",
              "      <td>gi|1608082296|gb|MK448919.1|</td>\n",
              "      <td>92063</td>\n",
              "      <td>9072</td>\n",
              "      <td>80</td>\n",
              "      <td>14015</td>\n",
              "      <td>23078</td>\n",
              "      <td>25871</td>\n",
              "      <td>16810</td>\n",
              "      <td>0.0</td>\n",
              "      <td>12748.0</td>\n",
              "      <td>2548131</td>\n",
              "      <td>2548131.0</td>\n",
              "      <td>Streptococcus phage Javan370</td>\n",
              "    </tr>\n",
              "    <tr>\n",
              "      <th>3</th>\n",
              "      <td>NODE_29_length_23609_cov_34.263386</td>\n",
              "      <td>gi|257472321|gb|CP001721.1|</td>\n",
              "      <td>97026</td>\n",
              "      <td>7634</td>\n",
              "      <td>86</td>\n",
              "      <td>15294</td>\n",
              "      <td>22925</td>\n",
              "      <td>631684</td>\n",
              "      <td>639314</td>\n",
              "      <td>0.0</td>\n",
              "      <td>12835.0</td>\n",
              "      <td>521095</td>\n",
              "      <td>521095.0</td>\n",
              "      <td>Lancefieldella parvulum DSM 20469</td>\n",
              "    </tr>\n",
              "    <tr>\n",
              "      <th>4</th>\n",
              "      <td>NODE_204_length_7367_cov_0.000000</td>\n",
              "      <td>gi|1726950264|gb|MN240508.1|</td>\n",
              "      <td>98860</td>\n",
              "      <td>7368</td>\n",
              "      <td>100</td>\n",
              "      <td>1</td>\n",
              "      <td>7367</td>\n",
              "      <td>1</td>\n",
              "      <td>7368</td>\n",
              "      <td>0.0</td>\n",
              "      <td>13140.0</td>\n",
              "      <td>42789</td>\n",
              "      <td>42789.0</td>\n",
              "      <td>enterovirus D68</td>\n",
              "    </tr>\n",
              "    <tr>\n",
              "      <th>...</th>\n",
              "      <td>...</td>\n",
              "      <td>...</td>\n",
              "      <td>...</td>\n",
              "      <td>...</td>\n",
              "      <td>...</td>\n",
              "      <td>...</td>\n",
              "      <td>...</td>\n",
              "      <td>...</td>\n",
              "      <td>...</td>\n",
              "      <td>...</td>\n",
              "      <td>...</td>\n",
              "      <td>...</td>\n",
              "      <td>...</td>\n",
              "      <td>...</td>\n",
              "    </tr>\n",
              "    <tr>\n",
              "      <th>5889</th>\n",
              "      <td>NODE_13369_length_508_cov_11.345708</td>\n",
              "      <td>gi|1938721720|gb|CP049266.1|</td>\n",
              "      <td>96970</td>\n",
              "      <td>33</td>\n",
              "      <td>82</td>\n",
              "      <td>225</td>\n",
              "      <td>257</td>\n",
              "      <td>1595209</td>\n",
              "      <td>1595241</td>\n",
              "      <td>2.0</td>\n",
              "      <td>56.5</td>\n",
              "      <td>199</td>\n",
              "      <td>199.0</td>\n",
              "      <td>Campylobacter concisus</td>\n",
              "    </tr>\n",
              "    <tr>\n",
              "      <th>5890</th>\n",
              "      <td>NODE_1511_length_2077_cov_6.662500</td>\n",
              "      <td>gi|672591300|gb|CP009159.1|</td>\n",
              "      <td>96875</td>\n",
              "      <td>32</td>\n",
              "      <td>99</td>\n",
              "      <td>1814</td>\n",
              "      <td>1845</td>\n",
              "      <td>367804</td>\n",
              "      <td>367835</td>\n",
              "      <td>27.0</td>\n",
              "      <td>54.7</td>\n",
              "      <td>743972</td>\n",
              "      <td>743972.0</td>\n",
              "      <td>Actinobacillus suis ATCC 33415</td>\n",
              "    </tr>\n",
              "    <tr>\n",
              "      <th>5891</th>\n",
              "      <td>NODE_11306_length_562_cov_1.400000</td>\n",
              "      <td>gi|987460635|gb|CP014264.1|</td>\n",
              "      <td>96875</td>\n",
              "      <td>32</td>\n",
              "      <td>86</td>\n",
              "      <td>79</td>\n",
              "      <td>110</td>\n",
              "      <td>1724821</td>\n",
              "      <td>1724790</td>\n",
              "      <td>7.0</td>\n",
              "      <td>54.7</td>\n",
              "      <td>712633</td>\n",
              "      <td>712633.0</td>\n",
              "      <td>Streptococcus sp. oral taxon 431</td>\n",
              "    </tr>\n",
              "    <tr>\n",
              "      <th>5892</th>\n",
              "      <td>NODE_9376_length_636_cov_2.479428</td>\n",
              "      <td>gi|257472321|gb|CP001721.1|</td>\n",
              "      <td>96774</td>\n",
              "      <td>31</td>\n",
              "      <td>100</td>\n",
              "      <td>1</td>\n",
              "      <td>31</td>\n",
              "      <td>1288929</td>\n",
              "      <td>1288899</td>\n",
              "      <td>29.0</td>\n",
              "      <td>52.8</td>\n",
              "      <td>521095</td>\n",
              "      <td>521095.0</td>\n",
              "      <td>Lancefieldella parvulum DSM 20469</td>\n",
              "    </tr>\n",
              "    <tr>\n",
              "      <th>5893</th>\n",
              "      <td>NODE_8557_length_676_cov_2.918197</td>\n",
              "      <td>gi|1043182224|gb|CP016204.1|</td>\n",
              "      <td>96774</td>\n",
              "      <td>31</td>\n",
              "      <td>97</td>\n",
              "      <td>468</td>\n",
              "      <td>498</td>\n",
              "      <td>986730</td>\n",
              "      <td>986760</td>\n",
              "      <td>30.0</td>\n",
              "      <td>52.8</td>\n",
              "      <td>1236518</td>\n",
              "      <td>1236518.0</td>\n",
              "      <td>Prevotella scopos JCM 17725</td>\n",
              "    </tr>\n",
              "  </tbody>\n",
              "</table>\n",
              "<p>5894 rows × 14 columns</p>\n",
              "</div>"
            ],
            "text/plain": [
              "                              Scaffold ID                    Subject ID  \\\n",
              "0       NODE_51_length_17792_cov_7.929156  gi|1148994964|gb|CP019721.1|   \n",
              "1     NODE_115_length_10299_cov_19.186950   gi|339293023|gb|CP002889.1|   \n",
              "2      NODE_31_length_23078_cov_30.543281  gi|1608082296|gb|MK448919.1|   \n",
              "3      NODE_29_length_23609_cov_34.263386   gi|257472321|gb|CP001721.1|   \n",
              "4       NODE_204_length_7367_cov_0.000000  gi|1726950264|gb|MN240508.1|   \n",
              "...                                   ...                           ...   \n",
              "5889  NODE_13369_length_508_cov_11.345708  gi|1938721720|gb|CP049266.1|   \n",
              "5890   NODE_1511_length_2077_cov_6.662500   gi|672591300|gb|CP009159.1|   \n",
              "5891   NODE_11306_length_562_cov_1.400000   gi|987460635|gb|CP014264.1|   \n",
              "5892    NODE_9376_length_636_cov_2.479428   gi|257472321|gb|CP001721.1|   \n",
              "5893    NODE_8557_length_676_cov_2.918197  gi|1043182224|gb|CP016204.1|   \n",
              "\n",
              "        %ID  Length  Qcov  Qstart   Qend   Sstart     Send  E-value  bitscore  \\\n",
              "0     93303   15902    90    1853  17751  1097295  1081399      0.0   23459.0   \n",
              "1     91764    9629    94     654  10268    26288    35905      0.0   13365.0   \n",
              "2     92063    9072    80   14015  23078    25871    16810      0.0   12748.0   \n",
              "3     97026    7634    86   15294  22925   631684   639314      0.0   12835.0   \n",
              "4     98860    7368   100       1   7367        1     7368      0.0   13140.0   \n",
              "...     ...     ...   ...     ...    ...      ...      ...      ...       ...   \n",
              "5889  96970      33    82     225    257  1595209  1595241      2.0      56.5   \n",
              "5890  96875      32    99    1814   1845   367804   367835     27.0      54.7   \n",
              "5891  96875      32    86      79    110  1724821  1724790      7.0      54.7   \n",
              "5892  96774      31   100       1     31  1288929  1288899     29.0      52.8   \n",
              "5893  96774      31    97     468    498   986730   986760     30.0      52.8   \n",
              "\n",
              "      staxids      taxid                            taxname  \n",
              "0       29466    29466.0                Veillonella parvula  \n",
              "1     1051631  1051631.0       Streptococcus phage YMC-2011  \n",
              "2     2548131  2548131.0       Streptococcus phage Javan370  \n",
              "3      521095   521095.0  Lancefieldella parvulum DSM 20469  \n",
              "4       42789    42789.0                    enterovirus D68  \n",
              "...       ...        ...                                ...  \n",
              "5889      199      199.0             Campylobacter concisus  \n",
              "5890   743972   743972.0     Actinobacillus suis ATCC 33415  \n",
              "5891   712633   712633.0   Streptococcus sp. oral taxon 431  \n",
              "5892   521095   521095.0  Lancefieldella parvulum DSM 20469  \n",
              "5893  1236518  1236518.0        Prevotella scopos JCM 17725  \n",
              "\n",
              "[5894 rows x 14 columns]"
            ]
          },
          "execution_count": 8,
          "metadata": {},
          "output_type": "execute_result"
        }
      ],
      "source": [
        "joined"
      ]
    },
    {
      "cell_type": "code",
      "execution_count": null,
      "id": "ccb18dfc",
      "metadata": {
        "id": "ccb18dfc"
      },
      "outputs": [],
      "source": [
        "joined.to_excel('pool9_blast-scaffolds_taxID_data.xlsx', index = False)"
      ]
    },
    {
      "cell_type": "code",
      "execution_count": null,
      "id": "b7532a51",
      "metadata": {
        "id": "b7532a51"
      },
      "outputs": [],
      "source": []
    }
  ],
  "metadata": {
    "kernelspec": {
      "display_name": "Python 3 (ipykernel)",
      "language": "python",
      "name": "python3"
    },
    "language_info": {
      "codemirror_mode": {
        "name": "ipython",
        "version": 3
      },
      "file_extension": ".py",
      "mimetype": "text/x-python",
      "name": "python",
      "nbconvert_exporter": "python",
      "pygments_lexer": "ipython3",
      "version": "3.9.12"
    },
    "colab": {
      "provenance": []
    }
  },
  "nbformat": 4,
  "nbformat_minor": 5
}